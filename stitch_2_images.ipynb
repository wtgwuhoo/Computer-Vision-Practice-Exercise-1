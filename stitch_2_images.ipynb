{
 "cells": [
  {
   "cell_type": "code",
   "execution_count": 1,
   "id": "initial_id",
   "metadata": {
    "collapsed": true,
    "ExecuteTime": {
     "end_time": "2024-04-24T06:56:59.826427100Z",
     "start_time": "2024-04-24T06:55:32.533321600Z"
    }
   },
   "outputs": [],
   "source": [
    "import cv2\n",
    "import numpy as np\n",
    "import matplotlib.pyplot as plt\n",
    "import os\n",
    "\n",
    "def sift(filename):\n",
    "    # img = cv2.imread(filename, cv2.IMREAD_GRAYSCALE)  # 读取文件\n",
    "    img = cv2.imread(filename)  # 读取文件\n",
    "    # img = cv2.cvtColor(img, cv2.COLOR_BGR2GRAY)  # 转化为灰度图\n",
    "    sift = cv2.SIFT.create()\n",
    "    keyPoint, descriptor = sift.detectAndCompute(img, None)  # 特征提取得到关键点以及对应的描述符（特征向量）\n",
    "    return img, keyPoint, descriptor\n",
    "\n",
    "\n",
    "def surf(filename):\n",
    "    img = cv2.imread(filename)  # 读取文件\n",
    "    img = cv2.cvtColor(img, cv2.COLOR_BGR2GRAY)  # 转化为灰度图\n",
    "    sift = cv2.xfeatures2d_SURF.create()\n",
    "    keyPoint, descriptor = sift.detectAndCompute(img, None)  # 特征提取得到关键点以及对应的描述符（特征向量）\n",
    "    return img, keyPoint, descriptor\n",
    "\n",
    "\n",
    "def orb(filename):\n",
    "    # img = cv2.imread(filename, cv2.IMREAD_GRAYSCALE)  # 读取文件\n",
    "    img = cv2.imread(filename)  # 读取文件\n",
    "    # img = cv2.cvtColor(img, cv2.COLOR_BGR2GRAY)  # 转化为灰度图\n",
    "    orb = cv2.ORB.create()\n",
    "    keyPoint, descriptor = orb.detectAndCompute(img, None)  # 特征提取得到关键点以及对应的描述符（特征向量）\n",
    "    return img, keyPoint, descriptor\n",
    "\n",
    "\n",
    "\n",
    "\n",
    "def stitch(filename1, filename2):\n",
    "    img1, kp1, des1 = sift(filename1)\n",
    "    img2, kp2, des2 = sift(filename2)\n",
    "    bf = cv2.BFMatcher(cv2.NORM_L2)  # sift的normType应该使用NORM_L2或者NORM_L1\n",
    "    # img1, kp1, des1 = orb(filename1)\n",
    "    # img2, kp2, des2 = orb(filename2)\n",
    "    # bf = cv2.BFMatcher(cv2.NORM_HAMMING)  # orb的normType应该使用NORM_HAMMING\n",
    "    rawMatches = bf.knnMatch(des1, des2,2)# drawMatchesKnn\n",
    "    matches = []\n",
    "    for m in rawMatches:\n",
    "        # 当最近距离跟次近距离的比值小于ratio值时，保留此匹配对\n",
    "        if len(m) == 2 and m[0].distance < m[1].distance * 0.75:\n",
    "        # 存储两个点在featuresA, featuresB中的索引值\n",
    "            matches.append((m[0].trainIdx, m[0].queryIdx))\n",
    "        # 当筛选后的匹配对大于4时，计算视角变换矩阵\n",
    "    if len(matches) > 4:\n",
    "        # 获取匹配对的点坐标\n",
    "        ptsA = np.float32([kp1[i].pt for (_, i) in matches])\n",
    "        ptsB = np.float32([kp2[i].pt for (i, _) in matches])\n",
    "        # 计算视角变换矩阵\n",
    "        H, status = cv2.findHomography(ptsA, ptsB, cv2.RANSAC, 4.0)\n",
    "        # 返回结果\n",
    "        result = cv2.warpPerspective(img1, H, (img1.shape[1] + img2.shape[1], img1.shape[0]))\n",
    "        # cv2.imshow('result', result)\n",
    "        # cv2.waitKey(0)\n",
    "        # 将图片B传入result图片最左端\n",
    "        result[0:img2.shape[0], 0:img2.shape[1]] = img2\n",
    "        \n",
    "     \n",
    "        # 未处理接缝\n",
    "        cv2.imshow('result', result)\n",
    "        cv2.waitKey(0)\n",
    "        \n",
    "        return None\n",
    "    # 如果匹配对小于4时，返回None\n",
    "    return None\n",
    "\n",
    "imageDir='images'\n",
    "for item in os.listdir(imageDir):\n",
    "    item_path = os.path.join(imageDir, item)\n",
    "    if os.path.isdir(item_path):\n",
    "        stitch(os.path.join(item_path,'1.jpg'), os.path.join(item_path,'2.jpg'))\n",
    "\n"
   ]
  },
  {
   "cell_type": "code",
   "execution_count": 21,
   "outputs": [
    {
     "name": "stdout",
     "output_type": "stream",
     "text": [
      "p1\n",
      "p2\n"
     ]
    }
   ],
   "source": [
    "import os\n",
    "for item in os.listdir('images'):\n",
    "    print(item)"
   ],
   "metadata": {
    "collapsed": false,
    "ExecuteTime": {
     "end_time": "2024-04-18T14:51:25.010152200Z",
     "start_time": "2024-04-18T14:51:25.005150900Z"
    }
   },
   "id": "8546c844167d4cba"
  },
  {
   "cell_type": "code",
   "execution_count": null,
   "outputs": [],
   "source": [],
   "metadata": {
    "collapsed": false
   },
   "id": "20ff5ef855c7f26f"
  }
 ],
 "metadata": {
  "kernelspec": {
   "display_name": "Python 3",
   "language": "python",
   "name": "python3"
  },
  "language_info": {
   "codemirror_mode": {
    "name": "ipython",
    "version": 2
   },
   "file_extension": ".py",
   "mimetype": "text/x-python",
   "name": "python",
   "nbconvert_exporter": "python",
   "pygments_lexer": "ipython2",
   "version": "2.7.6"
  }
 },
 "nbformat": 4,
 "nbformat_minor": 5
}
