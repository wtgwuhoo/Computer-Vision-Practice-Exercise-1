{
 "cells": [
  {
   "cell_type": "code",
   "execution_count": 1,
   "outputs": [],
   "source": [
    "from PIL import Image\n",
    "import os\n",
    "\n",
    "path='set5'\n",
    "save_path='down_bicubic'\n",
    "for file in os.listdir(path):\n",
    "    file_path = os.path.join(path, file)\n",
    "    \n",
    "    # 打开原始图像\n",
    "    image = Image.open(file_path)\n",
    "    \n",
    "    # 指定目标尺寸\n",
    "    target_width = int(image.width * 0.5)  # 50% 的宽度\n",
    "    target_height = int(image.height * 0.5)  # 50% 的高度\n",
    "\n",
    "    # 进行 Bicubic 下采样\n",
    "    resized_image = image.resize((target_width, target_height), Image.BICUBIC)\n",
    "\n",
    "    # 保存处理后的图像\n",
    "    resized_image.save(os.path.join(save_path,file))"
   ],
   "metadata": {
    "collapsed": false,
    "ExecuteTime": {
     "end_time": "2024-04-29T10:11:37.739213Z",
     "start_time": "2024-04-29T10:11:37.665968200Z"
    }
   },
   "id": "dd90c13403dfdf46"
  },
  {
   "cell_type": "code",
   "execution_count": 2,
   "outputs": [
    {
     "name": "stdout",
     "output_type": "stream",
     "text": [
      "baby.png\n",
      "PSNR: 25.406378545999754\n",
      "SSIM: 0.7545208215131695\n",
      "bird.png\n",
      "PSNR: 20.797982562277607\n",
      "SSIM: 0.6533684526798802\n",
      "butterfly.png\n",
      "PSNR: 16.625738844683553\n",
      "SSIM: 0.617332435000412\n",
      "head.png\n",
      "PSNR: 26.62857969703666\n",
      "SSIM: 0.6998981997423286\n",
      "woman.png\n",
      "PSNR: 20.447409041764825\n",
      "SSIM: 0.7198145143506719\n"
     ]
    }
   ],
   "source": [
    "import cv2\n",
    "from skimage.metrics import structural_similarity as ssim\n",
    "\n",
    "origin_path ='set5'\n",
    "sr_path='sp_result'\n",
    "for file in os.listdir(origin_path):\n",
    "    # 加载图像\n",
    "    origin_filepath = os.path.join(origin_path, file)\n",
    "    sr_filepath=os.path.join(sr_path,file)\n",
    "    origin_image=cv2.imread(origin_filepath)\n",
    "    sr_image=cv2.imread(sr_filepath)\n",
    "    # 统一图像尺寸\n",
    "    origin_image=cv2.resize(origin_image, (sr_image.shape[1], sr_image.shape[0]))\n",
    "    print(file)\n",
    "    # PSNR\n",
    "    psnr = cv2.PSNR(origin_image, sr_image)\n",
    "    print(\"PSNR:\", psnr)\n",
    "    # SSIM\n",
    "    ssim_value, _ = ssim(origin_image, sr_image, full=True, multichannel=True,channel_axis=2)\n",
    "    print(\"SSIM:\", ssim_value)"
   ],
   "metadata": {
    "collapsed": false,
    "ExecuteTime": {
     "end_time": "2024-04-29T10:11:41.623288500Z",
     "start_time": "2024-04-29T10:11:40.597498600Z"
    }
   },
   "id": "c0fbe4e49b650d92"
  },
  {
   "cell_type": "code",
   "execution_count": null,
   "outputs": [],
   "source": [],
   "metadata": {
    "collapsed": false
   },
   "id": "1e41db215e941b5"
  }
 ],
 "metadata": {
  "kernelspec": {
   "display_name": "Python 3",
   "language": "python",
   "name": "python3"
  },
  "language_info": {
   "codemirror_mode": {
    "name": "ipython",
    "version": 2
   },
   "file_extension": ".py",
   "mimetype": "text/x-python",
   "name": "python",
   "nbconvert_exporter": "python",
   "pygments_lexer": "ipython2",
   "version": "2.7.6"
  }
 },
 "nbformat": 4,
 "nbformat_minor": 5
}
