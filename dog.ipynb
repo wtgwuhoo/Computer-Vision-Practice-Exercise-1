{
 "cells": [
  {
   "cell_type": "markdown",
   "source": [
    "图像特征提取之DoG算子\n",
    "（1）读取原始图像img；\n",
    "\n",
    "（2）对原始图像img在相同核大小，不同标准差下做高斯滤波，例如分别为sigma1，sigma2,sigma3,sigma4做高斯滤波得到图像G1，G2，G3，G4；\n",
    "\n",
    "（3）对相邻的滤波后的图像做差值，得到差值图像D1=G2-G1，D2=G3-G2，D3=G4-G3\n",
    "\n",
    "（4）对于中间的一副差值图像D2，遍历图中所有的点，对于每一点D2（i，j）做如下的操作\n",
    "\n",
    "（4-1）在图D2中这个点D2（i，j）一定的领域内，例如3*3的范围内，以及D1和D3中这个点D2（i，j）对应的相同位置处的点D1（i，j）和 D3（i，j）的相同领域内，求点D2（i，j）是否为极值点（极大值或极小值），如果为极值点，则标记为角点。"
   ],
   "metadata": {
    "collapsed": false
   },
   "id": "5bc9ef6b7e7ef93c"
  },
  {
   "cell_type": "code",
   "execution_count": 6,
   "outputs": [],
   "source": [
    "import cv2\n",
    "import numpy as np\n",
    "\n",
    "def find_corner_points(image_path, sigma1, sigma2, sigma3, sigma4):\n",
    "    # 读取图像\n",
    "    img = cv2.imread(image_path, cv2.IMREAD_COLOR)\n",
    "    gray = cv2.cvtColor(img, cv2.COLOR_BGR2GRAY)\n",
    "    \n",
    "    # 高斯滤波\n",
    "    G1 = cv2.GaussianBlur(gray, (0, 0), sigma1)\n",
    "    G2 = cv2.GaussianBlur(gray, (0, 0), sigma2)\n",
    "    G3 = cv2.GaussianBlur(gray, (0, 0), sigma3)\n",
    "    G4 = cv2.GaussianBlur(gray, (0, 0), sigma4)\n",
    "    \n",
    "    # 计算差值图像\n",
    "    D1 = G2 - G1\n",
    "    D2 = G3 - G2\n",
    "    D3 = G4 - G3\n",
    "    \n",
    "    # 检测角点\n",
    "    corner_points = []\n",
    "    rows, cols = gray.shape\n",
    "    for i in range(1, rows - 1):\n",
    "        for j in range(1, cols - 1):\n",
    "            # 判断D2(i,j)是否为极值点\n",
    "            if (D2[i, j] > D1[i-1:i+2, j-1:j+2].max() and\n",
    "                D2[i, j] > D3[i-1:i+2, j-1:j+2].max() and\n",
    "                D2[i, j] == D2.max()):\n",
    "                corner_points.append((j, i))  # 注意这里是(j, i)，而不是(i, j)，因为OpenCV中坐标是(x, y)\n",
    "    \n",
    "    # 在原图上绘制角点\n",
    "    for point in corner_points:\n",
    "        cv2.circle(img, point, 3, (255, 0, 0), -1)  # 在角点位置画一个半径为3的绿色圆点\n",
    "    \n",
    "    return img\n",
    "\n",
    "# 调用函数并显示结果\n",
    "image_path = 'images/p1/1.jpg'\n",
    "sigma1, sigma2, sigma3, sigma4 = 1, 2, 3, 4\n",
    "result_image = find_corner_points(image_path, sigma1, sigma2, sigma3, sigma4)\n",
    "\n",
    "cv2.imshow('Corner Points', result_image)\n",
    "cv2.waitKey(0)\n",
    "cv2.destroyAllWindows()\n"
   ],
   "metadata": {
    "collapsed": false,
    "ExecuteTime": {
     "end_time": "2024-04-18T15:21:49.149954Z",
     "start_time": "2024-04-18T15:21:46.425184700Z"
    }
   },
   "id": "b33532812c01a1d2"
  },
  {
   "cell_type": "code",
   "execution_count": null,
   "outputs": [],
   "source": [],
   "metadata": {
    "collapsed": false
   },
   "id": "59ac61eaead225b9"
  }
 ],
 "metadata": {
  "kernelspec": {
   "display_name": "Python 3",
   "language": "python",
   "name": "python3"
  },
  "language_info": {
   "codemirror_mode": {
    "name": "ipython",
    "version": 2
   },
   "file_extension": ".py",
   "mimetype": "text/x-python",
   "name": "python",
   "nbconvert_exporter": "python",
   "pygments_lexer": "ipython2",
   "version": "2.7.6"
  }
 },
 "nbformat": 4,
 "nbformat_minor": 5
}
