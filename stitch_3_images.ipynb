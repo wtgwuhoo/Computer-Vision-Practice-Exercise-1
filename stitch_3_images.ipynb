{
 "cells": [
  {
   "cell_type": "code",
   "execution_count": 1,
   "id": "initial_id",
   "metadata": {
    "collapsed": true,
    "ExecuteTime": {
     "end_time": "2024-04-24T06:58:24.260759800Z",
     "start_time": "2024-04-24T06:57:09.926891800Z"
    }
   },
   "outputs": [],
   "source": [
    "import cv2\n",
    "import numpy as np\n",
    "import matplotlib.pyplot as plt\n",
    "import os\n",
    "\n",
    "def sift(filename):\n",
    "    # img = cv2.imread(filename, cv2.IMREAD_GRAYSCALE)  # 读取文件\n",
    "    img = cv2.imread(filename)  # 读取文件\n",
    "    # img = cv2.cvtColor(img, cv2.COLOR_BGR2GRAY)  # 转化为灰度图\n",
    "    sift = cv2.SIFT.create()\n",
    "    keyPoint, descriptor = sift.detectAndCompute(img, None)  # 特征提取得到关键点以及对应的描述符（特征向量）\n",
    "    return img, keyPoint, descriptor\n",
    "\n",
    "\n",
    "def surf(filename):\n",
    "    img = cv2.imread(filename)  # 读取文件\n",
    "    img = cv2.cvtColor(img, cv2.COLOR_BGR2GRAY)  # 转化为灰度图\n",
    "    sift = cv2.xfeatures2d_SURF.create()\n",
    "    keyPoint, descriptor = sift.detectAndCompute(img, None)  # 特征提取得到关键点以及对应的描述符（特征向量）\n",
    "    return img, keyPoint, descriptor\n",
    "\n",
    "\n",
    "def orb(filename):\n",
    "    # img = cv2.imread(filename, cv2.IMREAD_GRAYSCALE)  # 读取文件\n",
    "    img = cv2.imread(filename)  # 读取文件\n",
    "    # img = cv2.cvtColor(img, cv2.COLOR_BGR2GRAY)  # 转化为灰度图\n",
    "    orb = cv2.ORB.create()\n",
    "    keyPoint, descriptor = orb.detectAndCompute(img, None)  # 特征提取得到关键点以及对应的描述符（特征向量）\n",
    "    return img, keyPoint, descriptor\n",
    "\n",
    "\n",
    "def stitch(filename1, filename2, filename3):\n",
    "    img1, kp1, des1 = sift(filename1)\n",
    "    img2, kp2, des2 = sift(filename2)\n",
    "    img3, kp3, des3 = sift(filename3)\n",
    "    bf = cv2.BFMatcher(cv2.NORM_L2)\n",
    "    \n",
    "    rawMatches1 = bf.knnMatch(des1, des2, 2)\n",
    "    rawMatches2 = bf.knnMatch(des2, des3, 2)\n",
    "    matches1 = []\n",
    "    matches2 = []\n",
    "    for m in rawMatches1:\n",
    "        if len(m) == 2 and m[0].distance < m[1].distance * 0.75:\n",
    "            matches1.append((m[0].queryIdx, m[0].trainIdx))\n",
    "    for m in rawMatches2:\n",
    "        if len(m) == 2 and m[0].distance < m[1].distance * 0.75:\n",
    "            matches2.append((m[0].queryIdx, m[0].trainIdx))\n",
    "    \n",
    "    if len(matches1) > 4 and len(matches2) > 4:\n",
    "        ptsA1 = np.float32([kp1[i].pt for (i, _) in matches1])\n",
    "        ptsB1 = np.float32([kp2[i].pt for (_, i) in matches1])\n",
    "        ptsA2 = np.float32([kp2[i].pt for (i, _) in matches2])\n",
    "        ptsB2 = np.float32([kp3[i].pt for (_, i) in matches2])\n",
    "        \n",
    "        H1, _ = cv2.findHomography(ptsA1, ptsB1, cv2.RANSAC, 4.0)\n",
    "        H2, _ = cv2.findHomography(ptsA2, ptsB2, cv2.RANSAC, 4.0)\n",
    "        \n",
    "        result1 = cv2.warpPerspective(img1, H1, (img1.shape[1] + img2.shape[1], img1.shape[0]))\n",
    "        result1[0:img2.shape[0], 0:img2.shape[1]] = img2\n",
    "        result2 = cv2.warpPerspective(result1, H2, (result1.shape[1] + img3.shape[1], result1.shape[0]))\n",
    "        result2[0:img3.shape[0], 0:img3.shape[1]] = img3\n",
    "        \n",
    "        cv2.imshow('result', result2)\n",
    "        cv2.waitKey(0)\n",
    "        return result2\n",
    "    \n",
    "    return None\n",
    "\n",
    "imageDir='images'\n",
    "for item in os.listdir(imageDir):\n",
    "    item_path = os.path.join(imageDir, item)\n",
    "    if os.path.isdir(item_path):\n",
    "        stitch(os.path.join(item_path,'1.jpg'), os.path.join(item_path,'2.jpg'), os.path.join(item_path,'3.jpg'))\n"
   ]
  },
  {
   "cell_type": "code",
   "execution_count": null,
   "outputs": [],
   "source": [],
   "metadata": {
    "collapsed": false
   },
   "id": "e09cd43b39ff37cb"
  }
 ],
 "metadata": {
  "kernelspec": {
   "display_name": "Python 3",
   "language": "python",
   "name": "python3"
  },
  "language_info": {
   "codemirror_mode": {
    "name": "ipython",
    "version": 2
   },
   "file_extension": ".py",
   "mimetype": "text/x-python",
   "name": "python",
   "nbconvert_exporter": "python",
   "pygments_lexer": "ipython2",
   "version": "2.7.6"
  }
 },
 "nbformat": 4,
 "nbformat_minor": 5
}
