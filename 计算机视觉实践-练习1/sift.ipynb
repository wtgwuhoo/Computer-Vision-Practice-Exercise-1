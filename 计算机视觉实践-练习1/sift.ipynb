{
 "cells": [
  {
   "cell_type": "markdown",
   "source": [
    "sift关键点检测与匹配"
   ],
   "metadata": {
    "collapsed": false
   },
   "id": "38a3791b6747616c"
  },
  {
   "cell_type": "code",
   "execution_count": 2,
   "id": "initial_id",
   "metadata": {
    "collapsed": true,
    "ExecuteTime": {
     "end_time": "2024-04-24T07:00:41.872425500Z",
     "start_time": "2024-04-24T06:58:50.731566Z"
    }
   },
   "outputs": [],
   "source": [
    "import cv2\n",
    "import os\n",
    "\n",
    "def sift(filename):\n",
    "    img = cv2.imread(filename) # 读取文件\n",
    "    # img = cv2.cvtColor(img, cv2.COLOR_BGR2GRAY)  # 转化为灰度图\n",
    "    sift = cv2.SIFT.create()\n",
    "    keyPoint, descriptor = sift.detectAndCompute(img, None)  # 特征提取得到关键点以及对应的描述符（特征向量）\n",
    "    return img, keyPoint, descriptor\n",
    "\n",
    "\n",
    "def surf(filename):\n",
    "    img = cv2.imread(filename)  # 读取文件\n",
    "    img = cv2.cvtColor(img, cv2.COLOR_BGR2GRAY)  # 转化为灰度图\n",
    "    sift = cv2.xfeatures2d_SURF.create()\n",
    "    keyPoint, descriptor = sift.detectAndCompute(img, None)  # 特征提取得到关键点以及对应的描述符（特征向量）\n",
    "    return img, keyPoint, descriptor\n",
    "\n",
    "\n",
    "def orb(filename):\n",
    "    img = cv2.imread(filename, cv2.IMREAD_GRAYSCALE)  # 读取文件\n",
    "    # img = cv2.cvtColor(img, cv2.COLOR_BGR2GRAY)  # 转化为灰度图\n",
    "    orb = cv2.ORB.create()\n",
    "    keyPoint, descriptor = orb.detectAndCompute(img, None)  # 特征提取得到关键点以及对应的描述符（特征向量）\n",
    "    return img, keyPoint, descriptor\n",
    "\n",
    "\n",
    "\n",
    "def match(filename1, filename2):\n",
    "    img1, kp1, des1 = sift(filename1)\n",
    "    img2, kp2, des2 = sift(filename2)\n",
    "    bf = cv2.BFMatcher(cv2.NORM_L2, crossCheck=True)  # sift的normType应该使用NORM_L2或者NORM_L1\n",
    "\n",
    "    # img1, kp1, des1 = orb(filename1)\n",
    "    # img2, kp2, des2 = orb(filename2)\n",
    "    # bf = cv2.BFMatcher(cv2.NORM_HAMMING, crossCheck=True)  # orb的normType应该使用NORM_HAMMING\n",
    "    matches = bf.match(des1, des2)\n",
    "    matches = sorted(matches, key=lambda x: x.distance)\n",
    "    # for m in matches:\n",
    "    #     print(m.distance)\n",
    "    knnMatches = bf.knnMatch(des1, des2, k=1)  # drawMatchesKnn\n",
    "\n",
    "    # 过滤\n",
    "    for m in matches:\n",
    "        for n in matches:\n",
    "            if (m != n and m.distance >= n.distance * 0.75):\n",
    "                matches.remove(m)\n",
    "                break\n",
    "\n",
    "    # mean_distance = sum(match.distance for match in matches) / len(matches)\n",
    "    # similarity = 1 / mean_distance  # 距离越小，相似度越高\n",
    "    # print(similarity)\n",
    "\n",
    "    img = cv2.drawMatches(img1, kp1, img2, kp2, matches[:50], img2, flags=2)\n",
    "    cv2.imshow(\"matches\", img)\n",
    "    cv2.waitKey(0)\n",
    "\n",
    "\n",
    "imageDir='images'\n",
    "for item in os.listdir(imageDir):\n",
    "    item_path = os.path.join(imageDir, item)\n",
    "    if os.path.isdir(item_path):\n",
    "        match(os.path.join(item_path,'1.jpg'), os.path.join(item_path,'2.jpg'))\n"
   ]
  },
  {
   "cell_type": "code",
   "execution_count": null,
   "outputs": [],
   "source": [],
   "metadata": {
    "collapsed": false
   },
   "id": "920ef1bcc10f467e"
  }
 ],
 "metadata": {
  "kernelspec": {
   "display_name": "Python 3",
   "language": "python",
   "name": "python3"
  },
  "language_info": {
   "codemirror_mode": {
    "name": "ipython",
    "version": 2
   },
   "file_extension": ".py",
   "mimetype": "text/x-python",
   "name": "python",
   "nbconvert_exporter": "python",
   "pygments_lexer": "ipython2",
   "version": "2.7.6"
  }
 },
 "nbformat": 4,
 "nbformat_minor": 5
}
