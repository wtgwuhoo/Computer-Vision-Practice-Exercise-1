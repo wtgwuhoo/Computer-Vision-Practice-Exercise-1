{
 "cells": [
  {
   "cell_type": "code",
   "execution_count": 1,
   "id": "initial_id",
   "metadata": {
    "collapsed": true,
    "ExecuteTime": {
     "end_time": "2024-04-25T07:16:11.537200200Z",
     "start_time": "2024-04-25T07:16:09.340493Z"
    }
   },
   "outputs": [],
   "source": [
    "from mindvision.dataset import Mnist\n",
    "\n",
    "# 下载并处理MNIST数据集\n",
    "download_train = Mnist(path=\"../mnist\", split=\"train\", batch_size=32, repeat_num=1, shuffle=True, resize=32, download=True)\n"
   ]
  },
  {
   "cell_type": "code",
   "execution_count": 2,
   "outputs": [],
   "source": [
    "download_eval = Mnist(path=\"../mnist\", split=\"test\", batch_size=32, resize=32, download=True)\n",
    "\n",
    "dataset_train = download_train.run()\n",
    "dataset_eval = download_eval.run()"
   ],
   "metadata": {
    "collapsed": false,
    "ExecuteTime": {
     "end_time": "2024-04-25T07:16:14.118055300Z",
     "start_time": "2024-04-25T07:16:13.888235600Z"
    }
   },
   "id": "35e051de80c09905"
  },
  {
   "cell_type": "code",
   "execution_count": 3,
   "outputs": [],
   "source": [
    "from mindvision.classification.models import lenet\n",
    "\n",
    "network = lenet(num_classes=10, pretrained=False)"
   ],
   "metadata": {
    "collapsed": false,
    "ExecuteTime": {
     "end_time": "2024-04-25T07:16:16.584934200Z",
     "start_time": "2024-04-25T07:16:16.578668Z"
    }
   },
   "id": "739b2cfaa1bfb9d3"
  },
  {
   "cell_type": "code",
   "execution_count": 4,
   "outputs": [],
   "source": [
    "import mindspore.nn as nn\n",
    "\n",
    "# 定义损失函数\n",
    "net_loss = nn.SoftmaxCrossEntropyWithLogits(sparse=True, reduction='mean')\n",
    "\n",
    "# 定义优化器函数\n",
    "net_opt = nn.Momentum(network.trainable_params(), learning_rate=0.01, momentum=0.9)"
   ],
   "metadata": {
    "collapsed": false,
    "ExecuteTime": {
     "end_time": "2024-04-25T07:16:18.294061400Z",
     "start_time": "2024-04-25T07:16:18.289998500Z"
    }
   },
   "id": "b417e3d86b6ffaf4"
  },
  {
   "cell_type": "code",
   "execution_count": 5,
   "outputs": [],
   "source": [
    "from mindspore.train.callback import ModelCheckpoint, CheckpointConfig\n",
    "\n",
    "# 设置模型保存参数，模型训练保存参数的step为1875\n",
    "config_ck = CheckpointConfig(save_checkpoint_steps=1875, keep_checkpoint_max=10)\n",
    "\n",
    "# 应用模型保存参数\n",
    "ckpoint = ModelCheckpoint(prefix=\"lenet\", directory=\"./lenet\", config=config_ck)"
   ],
   "metadata": {
    "collapsed": false,
    "ExecuteTime": {
     "end_time": "2024-04-25T07:16:20.617809400Z",
     "start_time": "2024-04-25T07:16:20.606713800Z"
    }
   },
   "id": "813e0a6e39f97d84"
  },
  {
   "cell_type": "code",
   "execution_count": 6,
   "outputs": [
    {
     "name": "stdout",
     "output_type": "stream",
     "text": [
      "Epoch:[  0/ 10], step:[ 1875/ 1875], loss:[0.287/0.409], time:5.266 ms, lr:0.01000\n",
      "Epoch time: 5733.385 ms, per step time: 3.058 ms, avg loss: 0.409\n",
      "Epoch:[  1/ 10], step:[ 1875/ 1875], loss:[0.292/0.064], time:5.933 ms, lr:0.01000\n",
      "Epoch time: 5476.433 ms, per step time: 2.921 ms, avg loss: 0.064\n",
      "Epoch:[  2/ 10], step:[ 1875/ 1875], loss:[0.002/0.044], time:5.571 ms, lr:0.01000\n",
      "Epoch time: 5468.797 ms, per step time: 2.917 ms, avg loss: 0.044\n",
      "Epoch:[  3/ 10], step:[ 1875/ 1875], loss:[0.044/0.034], time:5.601 ms, lr:0.01000\n",
      "Epoch time: 5912.776 ms, per step time: 3.153 ms, avg loss: 0.034\n",
      "Epoch:[  4/ 10], step:[ 1875/ 1875], loss:[0.000/0.027], time:5.773 ms, lr:0.01000\n",
      "Epoch time: 6170.161 ms, per step time: 3.291 ms, avg loss: 0.027\n",
      "Epoch:[  5/ 10], step:[ 1875/ 1875], loss:[0.027/0.023], time:5.398 ms, lr:0.01000\n",
      "Epoch time: 5865.330 ms, per step time: 3.128 ms, avg loss: 0.023\n",
      "Epoch:[  6/ 10], step:[ 1875/ 1875], loss:[0.001/0.021], time:5.702 ms, lr:0.01000\n",
      "Epoch time: 5470.310 ms, per step time: 2.917 ms, avg loss: 0.021\n",
      "Epoch:[  7/ 10], step:[ 1875/ 1875], loss:[0.000/0.018], time:5.484 ms, lr:0.01000\n",
      "Epoch time: 5585.703 ms, per step time: 2.979 ms, avg loss: 0.018\n",
      "Epoch:[  8/ 10], step:[ 1875/ 1875], loss:[0.027/0.017], time:5.813 ms, lr:0.01000\n",
      "Epoch time: 5515.379 ms, per step time: 2.942 ms, avg loss: 0.017\n",
      "Epoch:[  9/ 10], step:[ 1875/ 1875], loss:[0.001/0.014], time:4.692 ms, lr:0.01000\n",
      "Epoch time: 5507.738 ms, per step time: 2.937 ms, avg loss: 0.014\n"
     ]
    }
   ],
   "source": [
    "from mindvision.engine.callback import LossMonitor\n",
    "from mindspore.train import Model\n",
    "\n",
    "# 初始化模型参数\n",
    "model = Model(network, loss_fn=net_loss, optimizer=net_opt, metrics={'accuracy'})\n",
    "\n",
    "# 训练网络模型，并保存为lenet-1_1875.ckpt文件\n",
    "model.train(10, dataset_train, callbacks=[ckpoint, LossMonitor(0.01, 1875)])"
   ],
   "metadata": {
    "collapsed": false,
    "ExecuteTime": {
     "end_time": "2024-04-25T07:17:18.785667600Z",
     "start_time": "2024-04-25T07:16:22.052459200Z"
    }
   },
   "id": "8bf3136d6c668169"
  },
  {
   "cell_type": "code",
   "execution_count": 7,
   "outputs": [
    {
     "name": "stdout",
     "output_type": "stream",
     "text": [
      "{'accuracy': 0.9889823717948718}\n"
     ]
    }
   ],
   "source": [
    "acc = model.eval(dataset_eval)\n",
    "\n",
    "print(\"{}\".format(acc))\n"
   ],
   "metadata": {
    "collapsed": false,
    "ExecuteTime": {
     "end_time": "2024-04-25T07:18:12.745137500Z",
     "start_time": "2024-04-25T07:18:12.242686200Z"
    }
   },
   "id": "db938c1ff11208f4"
  },
  {
   "cell_type": "code",
   "execution_count": 8,
   "outputs": [
    {
     "data": {
      "text/plain": "([],\n ['global_step',\n  'learning_rate',\n  'momentum',\n  'moments.backbone.conv1.weight',\n  'moments.backbone.conv2.weight',\n  'moments.backbone.fc1.weight',\n  'moments.backbone.fc1.bias',\n  'moments.backbone.fc2.weight',\n  'moments.backbone.fc2.bias',\n  'moments.backbone.fc3.weight',\n  'moments.backbone.fc3.bias'])"
     },
     "execution_count": 8,
     "metadata": {},
     "output_type": "execute_result"
    }
   ],
   "source": [
    "from mindspore import load_checkpoint, load_param_into_net\n",
    "\n",
    "# 加载已经保存的用于测试的模型\n",
    "param_dict = load_checkpoint(\"./lenet/lenet-1_1875.ckpt\")\n",
    "# 加载参数到网络中\n",
    "load_param_into_net(network, param_dict)\n"
   ],
   "metadata": {
    "collapsed": false,
    "ExecuteTime": {
     "end_time": "2024-04-25T07:18:54.315114900Z",
     "start_time": "2024-04-25T07:18:54.295123200Z"
    }
   },
   "id": "cf12ff2fd4cc6ef9"
  },
  {
   "cell_type": "code",
   "execution_count": 10,
   "outputs": [
    {
     "data": {
      "text/plain": "<Figure size 640x480 with 6 Axes>",
      "image/png": "[encoded data removed]"
     },
     "metadata": {},
     "output_type": "display_data"
    },
    {
     "name": "stdout",
     "output_type": "stream",
     "text": [
      "Predicted: \"[2 8 7 4 2 8]\", Actual: \"[2 8 7 4 2 8]\"\n"
     ]
    }
   ],
   "source": [
    "import numpy as np\n",
    "from mindspore import Tensor\n",
    "import matplotlib.pyplot as plt\n",
    "\n",
    "mnist = Mnist(\"../mnist\", split=\"train\", batch_size=6, resize=32)\n",
    "dataset_infer = mnist.run()\n",
    "ds_test = dataset_infer.create_dict_iterator()\n",
    "data = next(ds_test)\n",
    "images = data[\"image\"].asnumpy()\n",
    "labels = data[\"label\"].asnumpy()\n",
    "\n",
    "plt.figure()\n",
    "for i in range(1, 7):\n",
    "    plt.subplot(2, 3, i)\n",
    "    plt.imshow(images[i-1][0], interpolation=\"None\", cmap=\"gray\")\n",
    "plt.show()\n",
    "\n",
    "# 使用函数model.predict预测image对应分类\n",
    "output = model.predict(Tensor(data['image']))\n",
    "predicted = np.argmax(output.asnumpy(), axis=1)\n",
    "\n",
    "# 输出预测分类与实际分类\n",
    "print(f'Predicted: \"{predicted}\", Actual: \"{labels}\"')\n"
   ],
   "metadata": {
    "collapsed": false,
    "ExecuteTime": {
     "end_time": "2024-04-25T07:19:22.896688Z",
     "start_time": "2024-04-25T07:19:21.359805800Z"
    }
   },
   "id": "65ff932649f588f"
  },
  {
   "cell_type": "code",
   "execution_count": null,
   "outputs": [],
   "source": [],
   "metadata": {
    "collapsed": false
   },
   "id": "f2a9c12e2830375b"
  }
 ],
 "metadata": {
  "kernelspec": {
   "display_name": "Python 3",
   "language": "python",
   "name": "python3"
  },
  "language_info": {
   "codemirror_mode": {
    "name": "ipython",
    "version": 2
   },
   "file_extension": ".py",
   "mimetype": "text/x-python",
   "name": "python",
   "nbconvert_exporter": "python",
   "pygments_lexer": "ipython2",
   "version": "2.7.6"
  }
 },
 "nbformat": 4,
 "nbformat_minor": 5
}
